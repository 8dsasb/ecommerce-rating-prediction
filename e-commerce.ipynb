{
 "cells": [
  {
   "cell_type": "markdown",
   "id": "Z88FfJc9lA_T",
   "metadata": {
    "id": "Z88FfJc9lA_T"
   },
   "source": [
    "## Analysis of an E-commerce Dataset "
   ]
  },
  {
   "cell_type": "code",
   "execution_count": null,
   "id": "PJrb2gtAlA_W",
   "metadata": {
    "id": "PJrb2gtAlA_W"
   },
   "outputs": [],
   "source": [
    "import numpy as np\n",
    "import pandas as pd\n",
    "from sklearn import linear_model\n",
    "from sklearn.model_selection import train_test_split\n",
    "from sklearn.linear_model import LinearRegression\n",
    "from sklearn.metrics import mean_squared_error\n",
    "from sklearn.metrics import mean_absolute_error\n",
    "from sklearn.preprocessing import OrdinalEncoder\n",
    "import matplotlib.pylab as plt\n",
    "%matplotlib inline\n",
    "\n",
    "\n",
    "ecom_data = pd.read_csv('files/ecom_dataset.csv')\n",
    "print(f'The length of the dataset is {len(ecom_data)}')"
   ]
  },
  {
   "cell_type": "code",
   "execution_count": 74,
   "id": "W3PImHiElA_X",
   "metadata": {
    "id": "W3PImHiElA_X"
   },
   "outputs": [
    {
     "data": {
      "text/html": [
       "<div>\n",
       "<style scoped>\n",
       "    .dataframe tbody tr th:only-of-type {\n",
       "        vertical-align: middle;\n",
       "    }\n",
       "\n",
       "    .dataframe tbody tr th {\n",
       "        vertical-align: top;\n",
       "    }\n",
       "\n",
       "    .dataframe thead th {\n",
       "        text-align: right;\n",
       "    }\n",
       "</style>\n",
       "<table border=\"1\" class=\"dataframe\">\n",
       "  <thead>\n",
       "    <tr style=\"text-align: right;\">\n",
       "      <th></th>\n",
       "      <th>userId</th>\n",
       "      <th>timestamp</th>\n",
       "      <th>review</th>\n",
       "      <th>item</th>\n",
       "      <th>rating</th>\n",
       "      <th>helpfulness</th>\n",
       "      <th>gender</th>\n",
       "      <th>category</th>\n",
       "      <th>item_id</th>\n",
       "      <th>item_price</th>\n",
       "      <th>user_city</th>\n",
       "    </tr>\n",
       "  </thead>\n",
       "  <tbody>\n",
       "    <tr>\n",
       "      <th>0</th>\n",
       "      <td>4081</td>\n",
       "      <td>71900</td>\n",
       "      <td>Not always McCrap</td>\n",
       "      <td>McDonald's</td>\n",
       "      <td>4.0</td>\n",
       "      <td>3.0</td>\n",
       "      <td>M</td>\n",
       "      <td>Restaurants &amp; Gourmet</td>\n",
       "      <td>41</td>\n",
       "      <td>30.74</td>\n",
       "      <td>4</td>\n",
       "    </tr>\n",
       "    <tr>\n",
       "      <th>1</th>\n",
       "      <td>4081</td>\n",
       "      <td>72000</td>\n",
       "      <td>I dropped the chalupa even before he told me to</td>\n",
       "      <td>Taco Bell</td>\n",
       "      <td>1.0</td>\n",
       "      <td>4.0</td>\n",
       "      <td>M</td>\n",
       "      <td>Restaurants &amp; Gourmet</td>\n",
       "      <td>74</td>\n",
       "      <td>108.30</td>\n",
       "      <td>4</td>\n",
       "    </tr>\n",
       "    <tr>\n",
       "      <th>2</th>\n",
       "      <td>4081</td>\n",
       "      <td>72000</td>\n",
       "      <td>The Wonderful World of Wendy</td>\n",
       "      <td>Wendy's</td>\n",
       "      <td>5.0</td>\n",
       "      <td>4.0</td>\n",
       "      <td>M</td>\n",
       "      <td>Restaurants &amp; Gourmet</td>\n",
       "      <td>84</td>\n",
       "      <td>69.00</td>\n",
       "      <td>4</td>\n",
       "    </tr>\n",
       "    <tr>\n",
       "      <th>3</th>\n",
       "      <td>4081</td>\n",
       "      <td>100399</td>\n",
       "      <td>They actually did it</td>\n",
       "      <td>South Park: Bigger, Longer &amp; Uncut</td>\n",
       "      <td>5.0</td>\n",
       "      <td>3.0</td>\n",
       "      <td>M</td>\n",
       "      <td>Movies</td>\n",
       "      <td>68</td>\n",
       "      <td>143.11</td>\n",
       "      <td>4</td>\n",
       "    </tr>\n",
       "    <tr>\n",
       "      <th>4</th>\n",
       "      <td>4081</td>\n",
       "      <td>100399</td>\n",
       "      <td>Hey! Gimme some pie!</td>\n",
       "      <td>American Pie</td>\n",
       "      <td>3.0</td>\n",
       "      <td>3.0</td>\n",
       "      <td>M</td>\n",
       "      <td>Movies</td>\n",
       "      <td>6</td>\n",
       "      <td>117.89</td>\n",
       "      <td>4</td>\n",
       "    </tr>\n",
       "  </tbody>\n",
       "</table>\n",
       "</div>"
      ],
      "text/plain": [
       "   userId  timestamp                                           review  \\\n",
       "0    4081      71900                                Not always McCrap   \n",
       "1    4081      72000  I dropped the chalupa even before he told me to   \n",
       "2    4081      72000                     The Wonderful World of Wendy   \n",
       "3    4081     100399                             They actually did it   \n",
       "4    4081     100399                             Hey! Gimme some pie!   \n",
       "\n",
       "                                 item  rating  helpfulness gender  \\\n",
       "0                          McDonald's     4.0          3.0      M   \n",
       "1                           Taco Bell     1.0          4.0      M   \n",
       "2                             Wendy's     5.0          4.0      M   \n",
       "3  South Park: Bigger, Longer & Uncut     5.0          3.0      M   \n",
       "4                        American Pie     3.0          3.0      M   \n",
       "\n",
       "                category  item_id  item_price  user_city  \n",
       "0  Restaurants & Gourmet       41       30.74          4  \n",
       "1  Restaurants & Gourmet       74      108.30          4  \n",
       "2  Restaurants & Gourmet       84       69.00          4  \n",
       "3                 Movies       68      143.11          4  \n",
       "4                 Movies        6      117.89          4  "
      ]
     },
     "execution_count": 74,
     "metadata": {},
     "output_type": "execute_result"
    }
   ],
   "source": [
    "#using head() \n",
    "ecom_data.head()"
   ]
  },
  {
   "cell_type": "code",
   "execution_count": 75,
   "id": "56dcdfdc",
   "metadata": {},
   "outputs": [
    {
     "name": "stdout",
     "output_type": "stream",
     "text": [
      "<class 'pandas.core.frame.DataFrame'>\n",
      "RangeIndex: 2685 entries, 0 to 2684\n",
      "Data columns (total 11 columns):\n",
      " #   Column       Non-Null Count  Dtype  \n",
      "---  ------       --------------  -----  \n",
      " 0   userId       2685 non-null   int64  \n",
      " 1   timestamp    2685 non-null   int64  \n",
      " 2   review       2685 non-null   object \n",
      " 3   item         2685 non-null   object \n",
      " 4   rating       2685 non-null   float64\n",
      " 5   helpfulness  2685 non-null   float64\n",
      " 6   gender       2685 non-null   object \n",
      " 7   category     2685 non-null   object \n",
      " 8   item_id      2685 non-null   int64  \n",
      " 9   item_price   2685 non-null   float64\n",
      " 10  user_city    2685 non-null   int64  \n",
      "dtypes: float64(3), int64(4), object(4)\n",
      "memory usage: 230.9+ KB\n"
     ]
    }
   ],
   "source": [
    "#using info()\n",
    "ecom_data.info()"
   ]
  },
  {
   "cell_type": "code",
   "execution_count": 78,
   "id": "18cde646",
   "metadata": {},
   "outputs": [
    {
     "data": {
      "text/html": [
       "<div>\n",
       "<style scoped>\n",
       "    .dataframe tbody tr th:only-of-type {\n",
       "        vertical-align: middle;\n",
       "    }\n",
       "\n",
       "    .dataframe tbody tr th {\n",
       "        vertical-align: top;\n",
       "    }\n",
       "\n",
       "    .dataframe thead th {\n",
       "        text-align: right;\n",
       "    }\n",
       "</style>\n",
       "<table border=\"1\" class=\"dataframe\">\n",
       "  <thead>\n",
       "    <tr style=\"text-align: right;\">\n",
       "      <th></th>\n",
       "      <th>helpfulness</th>\n",
       "      <th>gender</th>\n",
       "      <th>category</th>\n",
       "      <th>review</th>\n",
       "      <th>rating</th>\n",
       "    </tr>\n",
       "  </thead>\n",
       "  <tbody>\n",
       "    <tr>\n",
       "      <th>helpfulness</th>\n",
       "      <td>1.000000</td>\n",
       "      <td>0.075947</td>\n",
       "      <td>-0.013408</td>\n",
       "      <td>-0.028259</td>\n",
       "      <td>-0.007523</td>\n",
       "    </tr>\n",
       "    <tr>\n",
       "      <th>gender</th>\n",
       "      <td>0.075947</td>\n",
       "      <td>1.000000</td>\n",
       "      <td>0.022549</td>\n",
       "      <td>-0.037884</td>\n",
       "      <td>-0.034337</td>\n",
       "    </tr>\n",
       "    <tr>\n",
       "      <th>category</th>\n",
       "      <td>-0.013408</td>\n",
       "      <td>0.022549</td>\n",
       "      <td>1.000000</td>\n",
       "      <td>0.001970</td>\n",
       "      <td>-0.163158</td>\n",
       "    </tr>\n",
       "    <tr>\n",
       "      <th>review</th>\n",
       "      <td>-0.028259</td>\n",
       "      <td>-0.037884</td>\n",
       "      <td>0.001970</td>\n",
       "      <td>1.000000</td>\n",
       "      <td>-0.036118</td>\n",
       "    </tr>\n",
       "    <tr>\n",
       "      <th>rating</th>\n",
       "      <td>-0.007523</td>\n",
       "      <td>-0.034337</td>\n",
       "      <td>-0.163158</td>\n",
       "      <td>-0.036118</td>\n",
       "      <td>1.000000</td>\n",
       "    </tr>\n",
       "  </tbody>\n",
       "</table>\n",
       "</div>"
      ],
      "text/plain": [
       "             helpfulness    gender  category    review    rating\n",
       "helpfulness     1.000000  0.075947 -0.013408 -0.028259 -0.007523\n",
       "gender          0.075947  1.000000  0.022549 -0.037884 -0.034337\n",
       "category       -0.013408  0.022549  1.000000  0.001970 -0.163158\n",
       "review         -0.028259 -0.037884  0.001970  1.000000 -0.036118\n",
       "rating         -0.007523 -0.034337 -0.163158 -0.036118  1.000000"
      ]
     },
     "execution_count": 78,
     "metadata": {},
     "output_type": "execute_result"
    }
   ],
   "source": [
    "#correlations between helpfulness/gender/category/review\n",
    "ord_encoder = OrdinalEncoder()\n",
    "feat_col = ['gender','category','review']\n",
    "ecom_data[feat_col] = ord_encoder.fit_transform(ecom_data[feat_col])\n",
    "corr_values = ecom_data[['helpfulness','gender','category','review','rating']].corr()\n",
    "corr_values\n"
   ]
  },
  {
   "cell_type": "markdown",
   "id": "04fb54ce",
   "metadata": {},
   "source": [
    "## Correlation analysis and hypothesis\n",
    "\n",
    "From the above correlation matrix, it can be seen that category and review have the most correlation with rating whereas gender and helpfulness have the least correlation. All of the columns have a negative correlation with rating. \n",
    "\n",
    "Since the most correlated values are better predictors, we can assume that in the following experiment, models with category and review as the features will outperform models with gender and helpfulness. \n",
    "\n",
    "This can then be verified later by evaluating the errors values of the predictions."
   ]
  },
  {
   "cell_type": "markdown",
   "id": "4myP5igslA_Y",
   "metadata": {
    "id": "4myP5igslA_Y"
   },
   "source": [
    "### Split Training and Testing Data\n",
    "* Machine learning models are trained to help make predictions for the future. Normally, we need to randomly split the dataset into training and testing sets, where we use the training set to train the model, and then leverage the well-trained model to make predictions on the testing set.\n",
    "* To further investigate whether the size of the training/testing data affects the model performance, we randomly split the data into training and testing sets with different sizes:\n",
    "    * Case 1: training data containing 10% of the entire data;\n",
    "    * Case 2: training data containing 90% of the entire data.\n"
   ]
  },
  {
   "cell_type": "code",
   "execution_count": 79,
   "id": "cc85b536",
   "metadata": {},
   "outputs": [
    {
     "data": {
      "text/html": [
       "<div>\n",
       "<style scoped>\n",
       "    .dataframe tbody tr th:only-of-type {\n",
       "        vertical-align: middle;\n",
       "    }\n",
       "\n",
       "    .dataframe tbody tr th {\n",
       "        vertical-align: top;\n",
       "    }\n",
       "\n",
       "    .dataframe thead th {\n",
       "        text-align: right;\n",
       "    }\n",
       "</style>\n",
       "<table border=\"1\" class=\"dataframe\">\n",
       "  <thead>\n",
       "    <tr style=\"text-align: right;\">\n",
       "      <th></th>\n",
       "      <th>review</th>\n",
       "      <th>rating</th>\n",
       "      <th>helpfulness</th>\n",
       "      <th>gender</th>\n",
       "      <th>category</th>\n",
       "    </tr>\n",
       "  </thead>\n",
       "  <tbody>\n",
       "    <tr>\n",
       "      <th>0</th>\n",
       "      <td>1618.0</td>\n",
       "      <td>4.0</td>\n",
       "      <td>3.0</td>\n",
       "      <td>1.0</td>\n",
       "      <td>8.0</td>\n",
       "    </tr>\n",
       "    <tr>\n",
       "      <th>1</th>\n",
       "      <td>1125.0</td>\n",
       "      <td>1.0</td>\n",
       "      <td>4.0</td>\n",
       "      <td>1.0</td>\n",
       "      <td>8.0</td>\n",
       "    </tr>\n",
       "    <tr>\n",
       "      <th>2</th>\n",
       "      <td>2185.0</td>\n",
       "      <td>5.0</td>\n",
       "      <td>4.0</td>\n",
       "      <td>1.0</td>\n",
       "      <td>8.0</td>\n",
       "    </tr>\n",
       "    <tr>\n",
       "      <th>3</th>\n",
       "      <td>2243.0</td>\n",
       "      <td>5.0</td>\n",
       "      <td>3.0</td>\n",
       "      <td>1.0</td>\n",
       "      <td>5.0</td>\n",
       "    </tr>\n",
       "    <tr>\n",
       "      <th>4</th>\n",
       "      <td>1033.0</td>\n",
       "      <td>3.0</td>\n",
       "      <td>3.0</td>\n",
       "      <td>1.0</td>\n",
       "      <td>5.0</td>\n",
       "    </tr>\n",
       "  </tbody>\n",
       "</table>\n",
       "</div>"
      ],
      "text/plain": [
       "   review  rating  helpfulness  gender  category\n",
       "0  1618.0     4.0          3.0     1.0       8.0\n",
       "1  1125.0     1.0          4.0     1.0       8.0\n",
       "2  2185.0     5.0          4.0     1.0       8.0\n",
       "3  2243.0     5.0          3.0     1.0       5.0\n",
       "4  1033.0     3.0          3.0     1.0       5.0"
      ]
     },
     "execution_count": 79,
     "metadata": {},
     "output_type": "execute_result"
    }
   ],
   "source": [
    "#dropping all other rows besides gender, category and review\n",
    "ecom_data.drop(['userId','timestamp','item','item_id','item_price','user_city'], axis = 1, inplace = True)\n",
    "ecom_data.head()"
   ]
  },
  {
   "cell_type": "code",
   "execution_count": 81,
   "id": "JIDMig9blA_Y",
   "metadata": {
    "id": "JIDMig9blA_Y"
   },
   "outputs": [
    {
     "name": "stdout",
     "output_type": "stream",
     "text": [
      "The shape for the training data containing 10% of the entire data is : (268, 5)\n",
      "The shape for the testing data containing 90% of the entire data is : (2417, 5)\n"
     ]
    }
   ],
   "source": [
    "#case 1: training data containing 10% of the entire data\n",
    "train_c1_data, test_c1_data = train_test_split(ecom_data, train_size = 0.1, test_size = 0.9, random_state = 142)\n",
    "print(f\"The shape for the training data containing 10% of the entire data is : {train_c1_data.shape}\")\n",
    "print(f\"The shape for the testing data containing 90% of the entire data is : {test_c1_data.shape}\")\n"
   ]
  },
  {
   "cell_type": "code",
   "execution_count": 82,
   "id": "e5fdb971",
   "metadata": {},
   "outputs": [
    {
     "name": "stdout",
     "output_type": "stream",
     "text": [
      "The shape for the training data containing 90% of the entire data is : (2416, 5)\n",
      "The shape for the testing data containing 10% of the entire data is : (269, 5)\n"
     ]
    }
   ],
   "source": [
    "#case 2: training data containing 90% of the entire data\n",
    "train_c2_data, test_c2_data = train_test_split(ecom_data, train_size = 0.9, test_size = 0.1, random_state = 142)\n",
    "print(f\"The shape for the training data containing 90% of the entire data is : {train_c2_data.shape}\")\n",
    "print(f\"The shape for the testing data containing 10% of the entire data is : {test_c2_data.shape}\")"
   ]
  },
  {
   "cell_type": "markdown",
   "id": "DjSsgT0BlA_Y",
   "metadata": {
    "id": "DjSsgT0BlA_Y"
   },
   "source": [
    "### Train Linear Regression Models with Feature Selection under Cases 1 & 2\n",
    "* When training a machine learning model for prediction, we may need to select the most important/correlated input features for more accurate results.\n",
    "* To investigate whether feature selection affects the model performance, we will select two most correlated features and two least correlated features regarding rating, respectively.\n",
    "* Training of four linear regression models by following the conditions:\n",
    "    - (model-a) using the training/testing data in case 1 with two most correlated input features\n",
    "    - (model-b) using the training/testing data in case 1 with two least correlated input features\n",
    "    - (model-c) using the training/testing data in case 2 with two most correlated input features\n",
    "    - (model-d) using the training/testing data in case 2 with two least correlated input features\n",
    "* By doing this, we can verify the impacts of the size of traing/testing data on the model performance via comparing model-a and model-c (or model-b and model-d); meanwhile the impacts of feature selection can be validated via comparing model-a and model-b (or model-c and model-d).    "
   ]
  },
  {
   "cell_type": "code",
   "execution_count": 83,
   "id": "DASzPUATlA_Z",
   "metadata": {
    "id": "DASzPUATlA_Z"
   },
   "outputs": [],
   "source": [
    "#Selecting two most correlated features for case 1\n",
    "# most correlated features are category and review\n",
    "X_c1_train1 = train_c1_data.drop(['rating','helpfulness','gender'], axis=1)\n",
    "y_c1_train1 = train_c1_data[\"rating\"]\n",
    "X_c1_test1 = test_c1_data.drop(['rating','helpfulness','gender'], axis=1)\n",
    "y_c1_test1 = test_c1_data[\"rating\"]\n"
   ]
  },
  {
   "cell_type": "code",
   "execution_count": 84,
   "id": "df29aa37",
   "metadata": {},
   "outputs": [],
   "source": [
    "#Selecting two least correlated features for case 1\n",
    "# least correlated features are gender and helpfulness\n",
    "X_c1_train2 = train_c1_data.drop(['rating','category','review'], axis=1)\n",
    "y_c1_train2 = train_c1_data[\"rating\"]\n",
    "X_c1_test2 = test_c1_data.drop(['rating','category','review'], axis=1)\n",
    "y_c1_test2 = test_c1_data[\"rating\"]\n"
   ]
  },
  {
   "cell_type": "code",
   "execution_count": 85,
   "id": "147aa906",
   "metadata": {},
   "outputs": [],
   "source": [
    "#Selecting two most correlated features for case 2\n",
    "# most correlated features are category and review\n",
    "X_c2_train1 = train_c2_data.drop(['rating','helpfulness','gender'], axis=1)\n",
    "y_c2_train1 = train_c2_data[\"rating\"]\n",
    "X_c2_test1 = test_c2_data.drop(['rating','helpfulness','gender'], axis=1)\n",
    "y_c2_test1 = test_c2_data[\"rating\"]"
   ]
  },
  {
   "cell_type": "code",
   "execution_count": 86,
   "id": "52884334",
   "metadata": {},
   "outputs": [],
   "source": [
    "#Selecting two least correlated features for case 2\n",
    "# least correlated features are gender and helpfulness\n",
    "X_c2_train2 = train_c2_data.drop(['rating','category','review'], axis=1)\n",
    "y_c2_train2 = train_c2_data[\"rating\"]\n",
    "X_c2_test2 = test_c2_data.drop(['rating','category','review'], axis=1)\n",
    "y_c2_test2 = test_c2_data[\"rating\"]\n"
   ]
  },
  {
   "cell_type": "code",
   "execution_count": 87,
   "id": "f1d1629a",
   "metadata": {},
   "outputs": [],
   "source": [
    "#(model-a) using the training/testing data in case 1 with two most correlated input features\n",
    "model_a = LinearRegression()\n",
    "model_a.fit(X_c1_train1, y_c1_train1)\n",
    "model_a_pred = model_a.predict(X_c1_test1)\n"
   ]
  },
  {
   "cell_type": "code",
   "execution_count": 88,
   "id": "80c41d9f",
   "metadata": {},
   "outputs": [],
   "source": [
    "#(model-b) using the training/testing data in case 1 with two least correlated input features\n",
    "model_b = LinearRegression()\n",
    "model_b.fit(X_c1_train2, y_c1_train2)\n",
    "model_b_pred = model_b.predict(X_c1_test2)\n"
   ]
  },
  {
   "cell_type": "code",
   "execution_count": 89,
   "id": "879f37a2",
   "metadata": {},
   "outputs": [],
   "source": [
    "#(model-c) using the training/testing data in case 2 with two most correlated input features\n",
    "model_c = LinearRegression()\n",
    "model_c.fit(X_c2_train1, y_c2_train1)\n",
    "model_c_pred = model_c.predict(X_c2_test1)\n"
   ]
  },
  {
   "cell_type": "code",
   "execution_count": 90,
   "id": "60425da3",
   "metadata": {},
   "outputs": [],
   "source": [
    "#(model-d) using the training/testing data in case 2 with two least correlated input features\n",
    "model_d = LinearRegression()\n",
    "model_d.fit(X_c2_train2, y_c2_train2)\n",
    "model_d_pred = model_d.predict(X_c2_test2)\n"
   ]
  },
  {
   "cell_type": "markdown",
   "id": "KATSn7hYlA_Z",
   "metadata": {
    "id": "KATSn7hYlA_Z"
   },
   "source": [
    "### Model Evaluation\n"
   ]
  },
  {
   "cell_type": "code",
   "execution_count": 91,
   "id": "d9b31c8c",
   "metadata": {},
   "outputs": [],
   "source": [
    "mse_mod_a = mean_squared_error(y_c1_test1, model_a_pred)\n",
    "mse_mod_b = mean_squared_error(y_c1_test2, model_b_pred)\n",
    "mse_mod_c = mean_squared_error(y_c2_test1, model_c_pred)\n",
    "mse_mod_d = mean_squared_error(y_c2_test2, model_d_pred)\n",
    "\n",
    "rmse_mod_a = np.sqrt(mean_squared_error(y_c1_test1, model_a_pred))\n",
    "rmse_mod_b = np.sqrt(mean_squared_error(y_c1_test2, model_b_pred))\n",
    "rmse_mod_c = np.sqrt(mean_squared_error(y_c2_test1, model_c_pred))\n",
    "rmse_mod_d = np.sqrt(mean_squared_error(y_c2_test2, model_d_pred))"
   ]
  },
  {
   "cell_type": "code",
   "execution_count": 92,
   "id": "00c4871b",
   "metadata": {},
   "outputs": [
    {
     "name": "stdout",
     "output_type": "stream",
     "text": [
      "MSE:  1.7690740179517055\n",
      "RMSE:  1.3300654186737229\n"
     ]
    }
   ],
   "source": [
    "#model-a\n",
    "print(\"MSE: \", mse_mod_a)\n",
    "print(\"RMSE: \",rmse_mod_a)\n"
   ]
  },
  {
   "cell_type": "code",
   "execution_count": 93,
   "id": "ce2efacd",
   "metadata": {},
   "outputs": [
    {
     "name": "stdout",
     "output_type": "stream",
     "text": [
      "MSE:  1.8412549895856636\n",
      "RMSE:  1.356928513071217\n"
     ]
    }
   ],
   "source": [
    "#model-b\n",
    "print(\"MSE: \",mse_mod_b)\n",
    "print(\"RMSE: \", rmse_mod_b)\n"
   ]
  },
  {
   "cell_type": "code",
   "execution_count": 94,
   "id": "b4ea7f98",
   "metadata": {},
   "outputs": [
    {
     "name": "stdout",
     "output_type": "stream",
     "text": [
      "MSE:  1.7588975359805052\n",
      "RMSE:  1.3262343442923294\n"
     ]
    }
   ],
   "source": [
    "#model-c\n",
    "print(\"MSE: \",mse_mod_c )\n",
    "print(\"RMSE: \", rmse_mod_c)\n"
   ]
  },
  {
   "cell_type": "code",
   "execution_count": 95,
   "id": "8ec3ee4b",
   "metadata": {},
   "outputs": [
    {
     "name": "stdout",
     "output_type": "stream",
     "text": [
      "MSE:  1.8109460127732369\n",
      "RMSE:  1.3457139416581954\n"
     ]
    }
   ],
   "source": [
    "#model-d\n",
    "print(\"MSE: \",mse_mod_d )\n",
    "print(\"RMSE: \", rmse_mod_d)\n"
   ]
  },
  {
   "cell_type": "markdown",
   "id": "Y9jx-eY6lA_a",
   "metadata": {
    "id": "Y9jx-eY6lA_a"
   },
   "source": [
    "### Visualization, Comparision and Analysis of the Results\n"
   ]
  },
  {
   "cell_type": "code",
   "execution_count": 96,
   "id": "3TNAIGDilA_a",
   "metadata": {
    "id": "3TNAIGDilA_a"
   },
   "outputs": [
    {
     "data": {
      "image/png": "[encoded data removed]",
      "text/plain": [
       "<Figure size 1000x800 with 1 Axes>"
      ]
     },
     "metadata": {},
     "output_type": "display_data"
    }
   ],
   "source": [
    "#Visualization of the results\n",
    "labels = ['Model_a','Model_b','Model_c','Model_d']\n",
    "mse_data = [mse_mod_a,mse_mod_b,mse_mod_c,mse_mod_d]\n",
    "rmse_data = [rmse_mod_a,rmse_mod_b,rmse_mod_c,rmse_mod_d]\n",
    "\n",
    "plt.figure(figsize=(10, 8))\n",
    "index = np.arange(len(labels))\n",
    "plt.bar(index, mse_data, 0.35, label=\"MSE\")\n",
    "plt.bar(index + 0.35, rmse_data, 0.35, label=\"RMSE\")\n",
    "\n",
    "plt.xlabel(\"Models\")\n",
    "plt.ylabel(\"Errors\")\n",
    "plt.title(\"Models vs Errors\")\n",
    "plt.xticks(index + 0.35 / 2, labels)\n",
    "plt.legend()\n",
    "\n",
    "plt.show()"
   ]
  },
  {
   "cell_type": "markdown",
   "id": "58c53c27",
   "metadata": {},
   "source": [
    "# Analysis of the plot\n",
    "\n",
    "From the above bar plot, it can be seen that the models trained with the most correlated data (Model_a and Model_c) have low error values compared to the models trained with least correlated data (Model_b, Model_d). \n",
    "\n",
    "**Best performing Model**: Model C\n",
    "\n",
    "**Worst performing Model**: Model B\n",
    "\n",
    "**Highest MSE**: Approximately 1.80 (Model B)\n",
    "\n",
    "**Highest RMSE**: Approximately 1.35 (Model B)\n",
    "\n",
    "**Lowest MSE**: Approximately 1.72 (Model C)\n",
    "\n",
    "**Lowest RMSE**: Approximately 1.30 (Model C)\n",
    "\n",
    "While it was expected that model with most correlated features would perform well, the differences in error values between models isn't significant. This could mean many things such as:\n",
    "\n",
    "1. The choice of categorical encoding for certain features wasn't the best\n",
    "2. The features selected for predicting rating might not have been enough. Additional features could have possibly given us a  better result\n",
    "3. The selected features might not have been the best choice for predicting ratings. However, the dataset lacks other informative columns with possible relationship with ratings. \n",
    "4. The data sample size might not have been enough for making better predictions\n",
    "\n",
    "\n"
   ]
  }
 ],
 "metadata": {
  "colab": {
   "provenance": []
  },
  "kernelspec": {
   "display_name": "Python 3 (ipykernel)",
   "language": "python",
   "name": "python3"
  },
  "language_info": {
   "codemirror_mode": {
    "name": "ipython",
    "version": 3
   },
   "file_extension": ".py",
   "mimetype": "text/x-python",
   "name": "python",
   "nbconvert_exporter": "python",
   "pygments_lexer": "ipython3",
   "version": "3.11.3"
  }
 },
 "nbformat": 4,
 "nbformat_minor": 5
}
